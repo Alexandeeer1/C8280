{
 "cells": [
  {
   "attachments": {},
   "cell_type": "markdown",
   "metadata": {
    "id": "g5p1zhVdHRJH"
   },
   "source": [
    "## Numpy \n",
    "\n",
    "NumPy es la librería central para computación científica en Python. Proporciona un objeto de matriz multidimensional de alto rendimiento y herramientas para trabajar con estas matrices. \n",
    "\n",
    "#### Matrices\n",
    "\n",
    "Una matriz NumPy es una colección de valores de tipos de datos similares y está indexada por una tupla de números no negativos. El rango de la matriz es el número de dimensiones, y la forma de una matriz es una tupla de números que dan el tamaño de la matriz a lo largo de cada dimensión.\n"
   ]
  },
  {
   "cell_type": "code",
   "execution_count": 2,
   "metadata": {
    "id": "fEYOnETfqaMK"
   },
   "outputs": [
    {
     "name": "stdout",
     "output_type": "stream",
     "text": [
      "listas de Python: 0.0\n",
      "matrices de NumPy: 0.0\n"
     ]
    }
   ],
   "source": [
    "# Ejemplo \n",
    "from __future__ import division\n",
    "import time\n",
    "import numpy as np\n",
    " \n",
    "tam_vec = 1000\n",
    "def lista_python():\n",
    "    t1 = time.time()\n",
    "    X = range(tam_vec)\n",
    "    Y = range(tam_vec)\n",
    "    Z = []\n",
    "    for i in range(len(X)):\n",
    "        Z.append(X[i] + Y[i])\n",
    "    return time.time() - t1\n",
    "\n",
    "def matriz_numpy():\n",
    "    t1 = time.time()\n",
    "    X = np.arange(tam_vec)\n",
    "    Y = np.arange(tam_vec)\n",
    "    Z = X + Y\n",
    "    return time.time() - t1\n",
    "\n",
    "# Completar\n",
    "\n",
    "x = lista_python()\n",
    "y = matriz_numpy()\n",
    "\n",
    "print(\"listas de Python:\", x)\n",
    "print(\"matrices de NumPy:\", y)\n"
   ]
  },
  {
   "cell_type": "code",
   "execution_count": 3,
   "metadata": {
    "id": "OufDp2ReqaMM"
   },
   "outputs": [
    {
     "data": {
      "text/plain": [
       "'1.24.3'"
      ]
     },
     "execution_count": 3,
     "metadata": {},
     "output_type": "execute_result"
    }
   ],
   "source": [
    "import numpy\n",
    "numpy.__version__"
   ]
  },
  {
   "attachments": {},
   "cell_type": "markdown",
   "metadata": {
    "id": "BhyocdoIqaMM"
   },
   "source": [
    "Podemos inicializar matrices NumPy a partir de listas de Python anidadas y acceder a los elementos mediante corchetes. "
   ]
  },
  {
   "cell_type": "code",
   "execution_count": 4,
   "metadata": {
    "id": "oV13ZLdhqaMN"
   },
   "outputs": [
    {
     "name": "stdout",
     "output_type": "stream",
     "text": [
      "<class 'numpy.ndarray'>\n",
      "(3,)\n",
      "0\n",
      "1\n",
      "2\n",
      "[5 1 2]\n"
     ]
    }
   ],
   "source": [
    "import numpy as np\n",
    "\n",
    "# Creamos una matriz de rango 1\n",
    "a = np.array([0, 1, 2]) \n",
    "print (type(a))\n",
    "\n",
    "# Imprimimos la dimension de la matriz\n",
    "print (a.shape) \n",
    "print (a[0])\n",
    "print (a[1])\n",
    "print (a[2])\n",
    "\n",
    "# Cambiamos un elemento de un array\n",
    "a[0] = 5                 \n",
    "print (a) "
   ]
  },
  {
   "cell_type": "code",
   "execution_count": 5,
   "metadata": {
    "id": "AM3wLIGFqaMN"
   },
   "outputs": [
    {
     "name": "stdout",
     "output_type": "stream",
     "text": [
      "(2, 3)\n",
      "[[0 1 2]\n",
      " [3 4 5]]\n",
      "0 1 3\n"
     ]
    }
   ],
   "source": [
    "# Creamos una matriz de rango 2\n",
    "b = np.array([[0,1,2],[3,4,5]])  \n",
    "print (b.shape)                     \n",
    "print (b)\n",
    "print (b[0, 0], b[0, 1], b[1, 0])  "
   ]
  },
  {
   "cell_type": "code",
   "execution_count": 6,
   "metadata": {
    "id": "cq2gOFB4qaMO"
   },
   "outputs": [
    {
     "name": "stdout",
     "output_type": "stream",
     "text": [
      "(2, 3)\n",
      "0 1 3\n"
     ]
    }
   ],
   "source": [
    "print ( b.shape)                   \n",
    "print ( b[0, 0], b[0, 1], b[1, 0])"
   ]
  },
  {
   "attachments": {},
   "cell_type": "markdown",
   "metadata": {
    "id": "pNtk4_8UqaMO"
   },
   "source": [
    "### Creación de una matriz NumPy\n",
    "\n",
    "NumPy también proporciona muchas funciones integradas para crear matrices. La mejor manera de aprender esto es a través de ejemplos, así que pasemos al código. "
   ]
  },
  {
   "cell_type": "code",
   "execution_count": 7,
   "metadata": {
    "id": "NyYKtrrGqaMP"
   },
   "outputs": [
    {
     "name": "stdout",
     "output_type": "stream",
     "text": [
      "[[0. 0. 0.]\n",
      " [0. 0. 0.]\n",
      " [0. 0. 0.]]\n"
     ]
    }
   ],
   "source": [
    "# Creamos una matriz 3x3 de todos ceros\n",
    "a = np.zeros((3,3)) \n",
    "print (a)"
   ]
  },
  {
   "cell_type": "code",
   "execution_count": 8,
   "metadata": {
    "id": "mCLST8l6qaMQ"
   },
   "outputs": [
    {
     "name": "stdout",
     "output_type": "stream",
     "text": [
      "[[1. 1.]\n",
      " [1. 1.]]\n"
     ]
    }
   ],
   "source": [
    "# Creamos una matriz 2x2 de todos 1\n",
    "b = np.ones((2,2))  \n",
    "print (b)"
   ]
  },
  {
   "cell_type": "code",
   "execution_count": 9,
   "metadata": {
    "id": "6CJQKnPbqaMQ"
   },
   "outputs": [
    {
     "name": "stdout",
     "output_type": "stream",
     "text": [
      "[[7 7 7]\n",
      " [7 7 7]\n",
      " [7 7 7]]\n"
     ]
    }
   ],
   "source": [
    "# Creamos una matriz 3x3 constantes\n",
    "c = np.full((3,3), 7)\n",
    "print(c)"
   ]
  },
  {
   "cell_type": "code",
   "execution_count": 10,
   "metadata": {
    "id": "6WrXOZLfqaMR"
   },
   "outputs": [
    {
     "name": "stdout",
     "output_type": "stream",
     "text": [
      "[[0.05214916 0.33207337 0.42568023]\n",
      " [0.87669437 0.08146167 0.07463359]\n",
      " [0.96754006 0.93410002 0.89878946]]\n"
     ]
    }
   ],
   "source": [
    "# Creamos una matriz 3x3 con valores aleatorios\n",
    "d = np.random.random((3,3)) \n",
    "print (d)"
   ]
  },
  {
   "cell_type": "code",
   "execution_count": 11,
   "metadata": {
    "id": "2Fh7ah1dqaMR"
   },
   "outputs": [
    {
     "name": "stdout",
     "output_type": "stream",
     "text": [
      "[[1. 0. 0.]\n",
      " [0. 1. 0.]\n",
      " [0. 0. 1.]]\n"
     ]
    }
   ],
   "source": [
    "# Creamos una matriz identidad 3x3 \n",
    "e = np.eye(3)\n",
    "print(e)"
   ]
  },
  {
   "cell_type": "code",
   "execution_count": 12,
   "metadata": {
    "id": "3Z4n3uJbqaMR"
   },
   "outputs": [
    {
     "name": "stdout",
     "output_type": "stream",
     "text": [
      "[2 3 1 0]\n"
     ]
    }
   ],
   "source": [
    "# Convertir una lista en una matriz \n",
    "f = np.array([2, 3, 1,0])\n",
    "print(f)"
   ]
  },
  {
   "cell_type": "code",
   "execution_count": 13,
   "metadata": {
    "id": "tET5xDZ6qaMR"
   },
   "outputs": [
    {
     "name": "stdout",
     "output_type": "stream",
     "text": [
      "[0 1 2 3 4]\n",
      "[ 1  2  3  4  5  6  7  8  9 10]\n",
      "[ 0  2  4  6  8 10 12 14 16 18 20]\n"
     ]
    }
   ],
   "source": [
    "# arange() crea matrices con valores que se incrementan regularmente\n",
    "# Completar\n",
    "\n",
    "x = np.arange(5) # hasta el 4\n",
    "print(x) \n",
    "\n",
    "y = np.arange(1, 11) # del 1 hasta el 10\n",
    "print(y) \n",
    "\n",
    "z = np.arange(0, 21, 2) # del 0 al 21 de dos en 2\n",
    "print(z)  \n"
   ]
  },
  {
   "cell_type": "code",
   "execution_count": 14,
   "metadata": {
    "id": "RuGyOhkKqaMS"
   },
   "outputs": [
    {
     "name": "stdout",
     "output_type": "stream",
     "text": [
      "(1, 2)\n",
      "3\n",
      "6\n"
     ]
    }
   ],
   "source": [
    "# Mezcla de tupla y listas\n",
    "# Completar\n",
    "\n",
    "mezcla = [(1, 2), (3, 4), (5, 6)]\n",
    "print(mezcla[0])  # (1, 2)\n",
    "print(mezcla[1][0])  # 3\n",
    "print(mezcla[2][1]) # 6"
   ]
  },
  {
   "cell_type": "code",
   "execution_count": 15,
   "metadata": {
    "id": "Qqm5sInQqaMS"
   },
   "outputs": [
    {
     "name": "stdout",
     "output_type": "stream",
     "text": [
      "[1. 2. 3. 4. 5. 6. 7.]\n"
     ]
    }
   ],
   "source": [
    "# Crear una matriz de rango con tipo de datos flotante\n",
    "i = np.arange(1, 8, dtype=np.float64)\n",
    "print(i) "
   ]
  },
  {
   "attachments": {},
   "cell_type": "markdown",
   "metadata": {
    "id": "Ee1Sko4QqaMS"
   },
   "source": [
    "`linspace()`  crea matrices con un numero especifico de elementos que están espaciados por igual entre los valores inicial y final especificados"
   ]
  },
  {
   "cell_type": "code",
   "execution_count": 16,
   "metadata": {
    "id": "nHza6HfaqaMT"
   },
   "outputs": [
    {
     "name": "stdout",
     "output_type": "stream",
     "text": [
      "[ 1.  2.  3.  4.  5.  6.  7.  8.  9. 10.]\n"
     ]
    }
   ],
   "source": [
    "# Completa\n",
    "\n",
    "y = np.linspace(1, 10, num=10) #del 1 al 10, con una matriz de 10 INCLUYENDO TODOS LOS DIGITOS DEL 1 AL 10\n",
    "print(y)  # [ 1.  2.  3.  4.  5.  6.  7.  8.  9. 10.]\n",
    "\n"
   ]
  },
  {
   "attachments": {},
   "cell_type": "markdown",
   "metadata": {
    "id": "FhxDR-cfqaMT"
   },
   "source": [
    "### Tipos de datos\n",
    "Una matriz es una colección de elementos del mismo tipo de datos y NumPy admite y proporciona funciones integradas para construir matrices con argumentos opcionales para especificar explícitamente los tipos de datos requeridos. "
   ]
  },
  {
   "cell_type": "code",
   "execution_count": 17,
   "metadata": {
    "id": "Um_OqxjPqaMT"
   },
   "outputs": [
    {
     "name": "stdout",
     "output_type": "stream",
     "text": [
      "int32 float64 int64\n"
     ]
    }
   ],
   "source": [
    "# Numpy escoge el tipo de datos\n",
    "x = np.array([0, 1])  \n",
    "y = np.array([2.0, 3.0])  \n",
    "\n",
    "# Fuerza un tipo de datos en particular\n",
    "z = np.array([5, 6], dtype=np.int64)  \n",
    "print (x.dtype, y.dtype, z.dtype)"
   ]
  },
  {
   "attachments": {},
   "cell_type": "markdown",
   "metadata": {
    "id": "-lRfXcA7qaMT"
   },
   "source": [
    "**Ejercicio** Completa el siguiente  código."
   ]
  },
  {
   "cell_type": "code",
   "execution_count": 18,
   "metadata": {
    "id": "5ZJRGP7BqaMT"
   },
   "outputs": [
    {
     "name": "stdout",
     "output_type": "stream",
     "text": [
      "1 2 3\n",
      "(6,) (5, 4) (2, 4, 5)\n",
      "6 20 40\n",
      "int32 int32 int32\n",
      "4 4 4\n",
      "24 80 160\n"
     ]
    }
   ],
   "source": [
    "#np.random.seed(0)\n",
    "#x1 = np.random.randint(10, size=6)  # matriz 1-d\n",
    "#x2 = np.random.randint(10, size=(5, 4))  # matriz-2d\n",
    "#3 = np.random.randint(10, size=(2, 4, 5)) # matriz-3d\n",
    "\n",
    "# Imprime los atributos : dim, shape, size, dtype, itemsize y nbytes\n",
    "\n",
    "# Completar\n",
    "\n",
    "np.random.seed(0)\n",
    "\n",
    "x1 = np.random.randint(10, size=6)  # matriz 1-d\n",
    "x2 = np.random.randint(10, size=(5, 4))  # matriz-2d\n",
    "x3 = np.random.randint(10, size=(2, 4, 5))  # matriz-3d\n",
    "\n",
    "print(x1.ndim, x2.ndim, x3.ndim)\n",
    "print(x1.shape, x2.shape, x3.shape)\n",
    "print(x1.size, x2.size, x3.size)\n",
    "print(x1.dtype, x2.dtype, x3.dtype)\n",
    "print(x1.itemsize, x2.itemsize, x3.itemsize)\n",
    "print(x1.nbytes, x2.nbytes, x3.nbytes)\n"
   ]
  },
  {
   "attachments": {},
   "cell_type": "markdown",
   "metadata": {
    "id": "hHdZuIRlqaMU"
   },
   "source": [
    "### Indexación de matrices\n",
    "\n",
    "NumPy ofrece varias formas de indexar en matrices. La sintaxis estándar de Python `x[obj]` se puede usar para indexar la matriz NumPy, donde `x` es la matriz y `obj` es la selección.\n",
    "\n",
    "Hay tres tipos de indexación disponibles:\n",
    "\n",
    "* Acceso al campo\n",
    "\n",
    "* Recorte básico\n",
    "\n",
    "* Indexación avanzada\n",
    "\n",
    "#### Acceso al campo\n",
    "\n",
    "Si el objeto ndarray es una matriz estructurada, se puede acceder a los campos de la matriz indexando la matriz con cadenas, como un diccionario. La indexación de `x['field-name']` devuelve una nueva vista de la matriz, que tiene la misma dimensión que `x`, excepto cuando el campo es una submatriz  que contiene sólo la parte de los datos en el campo especificado. Los tipos de datos se obtienen con `x.dtype['field-name']`. "
   ]
  },
  {
   "cell_type": "code",
   "execution_count": 107,
   "metadata": {
    "id": "OPuRiaI0qaMU"
   },
   "outputs": [
    {
     "name": "stdout",
     "output_type": "stream",
     "text": [
      "[[(0, [[0., 0., 0.], [0., 0., 0.], [0., 0., 0.]])\n",
      "  (0, [[0., 0., 0.], [0., 0., 0.], [0., 0., 0.]])\n",
      "  (0, [[0., 0., 0.], [0., 0., 0.], [0., 0., 0.]])]\n",
      " [(0, [[0., 0., 0.], [0., 0., 0.], [0., 0., 0.]])\n",
      "  (0, [[0., 0., 0.], [0., 0., 0.], [0., 0., 0.]])\n",
      "  (0, [[0., 0., 0.], [0., 0., 0.], [0., 0., 0.]])]\n",
      " [(0, [[0., 0., 0.], [0., 0., 0.], [0., 0., 0.]])\n",
      "  (0, [[0., 0., 0.], [0., 0., 0.], [0., 0., 0.]])\n",
      "  (0, [[0., 0., 0.], [0., 0., 0.], [0., 0., 0.]])]]\n"
     ]
    }
   ],
   "source": [
    "x = np.zeros((3,3), dtype=[('a', np.int32), ('b', np.float64, (3,3))])\n",
    "print(x)"
   ]
  },
  {
   "cell_type": "code",
   "execution_count": 108,
   "metadata": {
    "id": "qn7yP1DDqaMU"
   },
   "outputs": [
    {
     "name": "stdout",
     "output_type": "stream",
     "text": [
      "x['a'].shape:  (3, 3)\n",
      "x['a'].dtype:  int32\n",
      "x['b'].shape:  (3, 3, 3, 3)\n",
      "x['b'].dtype:  float64\n"
     ]
    }
   ],
   "source": [
    "print (\"x['a'].shape: \",x['a'].shape)\n",
    "print (\"x['a'].dtype: \", x['a'].dtype)\n",
    "\n",
    "print (\"x['b'].shape: \", x['b'].shape)\n",
    "print (\"x['b'].dtype: \", x['b'].dtype)"
   ]
  },
  {
   "attachments": {},
   "cell_type": "markdown",
   "metadata": {
    "id": "CFyYL7BHqaMU"
   },
   "source": [
    "#### Recorte básico\n",
    "\n",
    "Las matrices NumPy se pueden dividir, de forma similar a las listas. Debe especificar un segmento para cada dimensión de la matriz, ya que las matrices pueden ser multidimensionales.\n",
    "\n",
    "La sintaxis de división básica es `i: j: k`, donde `i` es el índice inicial, `j` es el índice final, `k` es el paso y `k` no es igual a 0. Esto selecciona los elementos `m` en la dimensión correspondiente, con valores de índice `, i + k, ...,i + (m - 1)k` donde `m = q + (r distinto de 0)`,  `q` y `r` son el cociente y el resto se obtiene dividiendo `j - i` entre `k`: `j - i = qk + r`, de modo que `i + (m - 1) k < j`. "
   ]
  },
  {
   "cell_type": "code",
   "execution_count": 21,
   "metadata": {
    "id": "gXlzcajJqaMV"
   },
   "outputs": [
    {
     "data": {
      "text/plain": [
       "array([6, 8])"
      ]
     },
     "execution_count": 21,
     "metadata": {},
     "output_type": "execute_result"
    }
   ],
   "source": [
    "x = np.array([5, 6, 7, 8, 9])\n",
    "x[1:7:2]"
   ]
  },
  {
   "attachments": {},
   "cell_type": "markdown",
   "metadata": {
    "id": "-NhBkQkcqaMV"
   },
   "source": [
    "La `k` negativa hace que los pasos vayan hacia índices más pequeños. Los `i` y `j` negativos se interpretan como `n + i` y `n + j` donde `n` es el número de elementos en la dimensión correspondiente. "
   ]
  },
  {
   "cell_type": "code",
   "execution_count": 22,
   "metadata": {
    "id": "gf66zIIFqaMV"
   },
   "outputs": [
    {
     "name": "stdout",
     "output_type": "stream",
     "text": [
      "[8 9]\n",
      "[9 8 7]\n"
     ]
    }
   ],
   "source": [
    "print (x[-2:5])\n",
    "print (x[-1:1:-1])"
   ]
  },
  {
   "attachments": {},
   "cell_type": "markdown",
   "metadata": {
    "id": "ZZN6H4gfqaMV"
   },
   "source": [
    "Si `n` es el número de elementos en la dimensión que se está recortando. Entonces, si no se proporciona `i`, el valor predeterminado es `0` para  `k > 0` y `n-1` para `k < 0`. Si no se proporciona `j`, el valor predeterminado es `n` para `k > 0` y `-1` para `k < 0`. Si no se proporciona `k`, el valor predeterminado es `1`. Ten en cuenta que `::` es lo mismo que `:` y significa seleccionar todos los índices a lo largo de este eje. "
   ]
  },
  {
   "cell_type": "code",
   "execution_count": 23,
   "metadata": {
    "id": "P4aUAvZDqaMV"
   },
   "outputs": [
    {
     "data": {
      "text/plain": [
       "array([9])"
      ]
     },
     "execution_count": 23,
     "metadata": {},
     "output_type": "execute_result"
    }
   ],
   "source": [
    "x[4:]"
   ]
  },
  {
   "attachments": {},
   "cell_type": "markdown",
   "metadata": {
    "id": "LHGoBk77qaMW"
   },
   "source": [
    "Si el número de objetos en la tupla de selección es menor que N , entonces se asume `:` para cualquier dimensión subsiguiente. "
   ]
  },
  {
   "cell_type": "code",
   "execution_count": 24,
   "metadata": {
    "id": "gGBsOVcTqaMW"
   },
   "outputs": [
    {
     "name": "stdout",
     "output_type": "stream",
     "text": [
      "(3, 5)\n",
      "(3, 2, 5)\n"
     ]
    }
   ],
   "source": [
    "# Completar\n",
    "x = np.random.randint(10, size=(3, 4, 5))\n",
    "y = x[:, 0]\n",
    "print(y.shape)  \n",
    "z = x[:, :2]\n",
    "print(z.shape)  \n"
   ]
  },
  {
   "attachments": {},
   "cell_type": "markdown",
   "metadata": {
    "id": "kWkK2ssnqaMW"
   },
   "source": [
    "Los puntos suspensivos se expanden al número de : objetos necesarios para hacer una tupla de selección de la misma longitud que `x.ndim`. Solo puede haber una sola elipsis presente. "
   ]
  },
  {
   "cell_type": "code",
   "execution_count": 25,
   "metadata": {
    "id": "9EhQ_hm1qaMW"
   },
   "outputs": [
    {
     "name": "stdout",
     "output_type": "stream",
     "text": [
      "[[[3 6 7 2 0]\n",
      "  [3 5 9 4 4]\n",
      "  [6 4 4 3 4]\n",
      "  [4 8 4 3 7]]\n",
      "\n",
      " [[5 5 0 1 5]\n",
      "  [9 3 0 5 0]\n",
      "  [1 2 4 2 0]\n",
      "  [3 2 0 7 5]]\n",
      "\n",
      " [[9 0 2 7 2]\n",
      "  [9 2 3 3 2]\n",
      "  [3 4 1 2 9]\n",
      "  [1 4 6 8 2]]]\n"
     ]
    }
   ],
   "source": [
    "print(x)"
   ]
  },
  {
   "cell_type": "code",
   "execution_count": 26,
   "metadata": {
    "id": "L36IfJr7qaMX"
   },
   "outputs": [
    {
     "data": {
      "text/plain": [
       "array([[3, 3, 6, 4],\n",
       "       [5, 9, 1, 3],\n",
       "       [9, 9, 3, 1]])"
      ]
     },
     "execution_count": 26,
     "metadata": {},
     "output_type": "execute_result"
    }
   ],
   "source": [
    "x[...,0]"
   ]
  },
  {
   "attachments": {},
   "cell_type": "markdown",
   "metadata": {
    "id": "HroUqdKDqaMX"
   },
   "source": [
    "#### Ejercicio\n",
    "\n",
    "1. Crea una matriz de rango `2` con dimension `(3, 4)`\n",
    "\n",
    "2. Usa el recorte para extraer la submatriz que consta de las primeras `2` filas y las columnas `1` y `2`.\n",
    "\n",
    "3. Una parte de una matriz es solo una vista de los mismos datos, comprueba quecualquier modificación modificará la matriz original. \n",
    "\n"
   ]
  },
  {
   "cell_type": "code",
   "execution_count": 27,
   "metadata": {
    "id": "SO70Y-ssqaMX"
   },
   "outputs": [
    {
     "name": "stdout",
     "output_type": "stream",
     "text": [
      "Matriz original:\n",
      "[[ 0 99  2  3]\n",
      " [ 4  5  6  7]\n",
      " [ 8  9 10 11]]\n",
      "Submatriz extraída:\n",
      "[[99  2]\n",
      " [ 5  6]]\n",
      "Matriz original después de modificar la submatriz:\n",
      "[[ 0 99  2  3]\n",
      " [ 4  5  6  7]\n",
      " [ 8  9 10 11]]\n"
     ]
    }
   ],
   "source": [
    "# Tu respuesta\n",
    "\n",
    "matriz = np.arange(12).reshape(3, 4)\n",
    "submatriz = matriz[:2, 1:3]\n",
    "submatriz[0, 0] = 99\n",
    "#############\n",
    "print(\"Matriz original:\")\n",
    "print(matriz)\n",
    "#############\n",
    "print(\"Submatriz extraída:\")\n",
    "print(submatriz)\n",
    "#############\n",
    "print(\"Matriz original después de modificar la submatriz:\")\n",
    "print(matriz)\n"
   ]
  },
  {
   "attachments": {},
   "cell_type": "markdown",
   "metadata": {
    "id": "Pw-VG8JqqaMX"
   },
   "source": [
    "Se puede acceder a la matriz de la fila central de dos maneras. \n",
    "\n",
    "* Las partes junto con la indexación de enteros darán como resultado una matriz de rango inferior. \n",
    "\n",
    "* El uso de solo recortes dará como resultado el mismo rango matriz."
   ]
  },
  {
   "cell_type": "code",
   "execution_count": 28,
   "metadata": {
    "id": "W1ddrRz4qaMY"
   },
   "outputs": [
    {
     "name": "stdout",
     "output_type": "stream",
     "text": [
      "[[ 1  2  3  4]\n",
      " [ 5  6  7  8]\n",
      " [ 9 10 11 12]]\n"
     ]
    }
   ],
   "source": [
    "# Creamos una matriz de rango 2 array con dimensión (3, 4)\n",
    "a = np.array([[1,2,3,4], [5,6,7,8], [9,10,11,12]])\n",
    "print (a)"
   ]
  },
  {
   "attachments": {},
   "cell_type": "markdown",
   "metadata": {
    "id": "LYSx-APpqaMY"
   },
   "source": [
    "Dos formas de acceder a los datos en la fila central de la matriz. La combinación de la indexación de enteros con recortes produce una matriz de menor rango, mientras que el uso de solo recortes produce una matriz del mismo rango que la matriz original: "
   ]
  },
  {
   "cell_type": "code",
   "execution_count": 29,
   "metadata": {
    "id": "c3xFq81hqaMY"
   },
   "outputs": [
    {
     "name": "stdout",
     "output_type": "stream",
     "text": [
      "[5 6 7 8] (4,)\n",
      "[[5 6 7 8]] (1, 4)\n",
      "[[5 6 7 8]] (1, 4)\n"
     ]
    }
   ],
   "source": [
    "fila_r1 = a[1, :]    # Vista de rango 1 de la segunda fila de a\n",
    "fila_r2 = a[1:2, :]  # Vista de rango 2 de la segunda fila de a\n",
    "fila_r3 = a[[1], :]  # Vista de ranfo 2 de la segunda fila de a\n",
    "print (fila_r1, fila_r1.shape)\n",
    "print (fila_r2, fila_r2.shape)\n",
    "print (fila_r3, fila_r3.shape)"
   ]
  },
  {
   "attachments": {},
   "cell_type": "markdown",
   "metadata": {
    "id": "iYqVtaD6qaMY"
   },
   "source": [
    "Podemos hacer la misma distinción al acceder a las columnas de una matriz."
   ]
  },
  {
   "cell_type": "code",
   "execution_count": 30,
   "metadata": {
    "id": "PJAluA4FqaMY"
   },
   "outputs": [
    {
     "name": "stdout",
     "output_type": "stream",
     "text": [
      "[ 2  6 10] (3,)\n",
      "[[ 2]\n",
      " [ 6]\n",
      " [10]] (3, 1)\n"
     ]
    }
   ],
   "source": [
    "col_r1 = a[:, 1]\n",
    "col_r2 = a[:, 1:2]\n",
    "print (col_r1, col_r1.shape)\n",
    "print (col_r2, col_r2.shape)"
   ]
  },
  {
   "attachments": {},
   "cell_type": "markdown",
   "metadata": {
    "id": "PMt05HC7qaMZ"
   },
   "source": [
    "### Indexación avanzada\n"
   ]
  },
  {
   "cell_type": "code",
   "execution_count": 109,
   "metadata": {
    "id": "-l49FKg_qaMZ"
   },
   "outputs": [
    {
     "name": "stdout",
     "output_type": "stream",
     "text": [
      "[1 4]\n",
      "[1, 4]\n"
     ]
    }
   ],
   "source": [
    "a = np.array([[1,2], [3, 4]])\n",
    "print (a[[0, 1], [0, 1]])\n",
    "\n",
    "# El ejemplo de indexacion de una matriz entera es equivalente a esto:\n",
    "# completar\n",
    "\n",
    "resul = [a[0, 0], a[1, 1]]\n",
    "print(resul)"
   ]
  },
  {
   "attachments": {},
   "cell_type": "markdown",
   "metadata": {
    "id": "6NwtylSHqaMZ"
   },
   "source": [
    "Al usar la indexacion de un matriz de enteros, puede reutilizar el mismo elemento de la matriz de origen:"
   ]
  },
  {
   "cell_type": "code",
   "execution_count": 32,
   "metadata": {
    "id": "uAmd3gFYqaMZ"
   },
   "outputs": [
    {
     "name": "stdout",
     "output_type": "stream",
     "text": [
      "[2 2]\n",
      "[2, 2]\n"
     ]
    }
   ],
   "source": [
    "print (a[[0, 0], [1, 1]])\n",
    "\n",
    "# Equivalente al ejemplo de indexacion de matriz de enteros \n",
    "# completar\n",
    "resul = [a[0, 1], a[0, 1]]\n",
    "print(resul)"
   ]
  },
  {
   "attachments": {},
   "cell_type": "markdown",
   "metadata": {
    "id": "FOVCDT4tqaMZ"
   },
   "source": [
    "Un asunto  importante y extremadamente útil acerca de los recortes de una  matriz es que devuelven  *vistas (`views`)* en lugar de *copias (`copies`)*  de los datos de la matriz. Este es un área en la que NumPy  difiere de la lista de Python:  en las listas, estas son copias."
   ]
  },
  {
   "cell_type": "code",
   "execution_count": 33,
   "metadata": {
    "id": "BR_5P6aJqaMa"
   },
   "outputs": [
    {
     "data": {
      "text/plain": [
       "array([[5, 0, 3, 3],\n",
       "       [7, 9, 3, 5],\n",
       "       [2, 4, 7, 6],\n",
       "       [8, 8, 1, 6],\n",
       "       [7, 7, 8, 1]])"
      ]
     },
     "execution_count": 33,
     "metadata": {},
     "output_type": "execute_result"
    }
   ],
   "source": [
    "np.random.seed(0)\n",
    "x2 = np.random.randint(10, size=(5, 4))\n",
    "x2"
   ]
  },
  {
   "cell_type": "code",
   "execution_count": 34,
   "metadata": {
    "id": "-J15zJjXqaMa"
   },
   "outputs": [
    {
     "name": "stdout",
     "output_type": "stream",
     "text": [
      "[[5 0]\n",
      " [7 9]]\n"
     ]
    }
   ],
   "source": [
    "x2_sub = x2[:2, :2]\n",
    "print(x2_sub)"
   ]
  },
  {
   "cell_type": "code",
   "execution_count": 35,
   "metadata": {
    "id": "jZwufbuwqaMa"
   },
   "outputs": [
    {
     "name": "stdout",
     "output_type": "stream",
     "text": [
      "[[99  0]\n",
      " [ 7  9]]\n"
     ]
    }
   ],
   "source": [
    "x2_sub[0, 0] = 99\n",
    "print(x2_sub)"
   ]
  },
  {
   "attachments": {},
   "cell_type": "markdown",
   "metadata": {
    "id": "44JeYQoZqaMa"
   },
   "source": [
    "Este comportamiento predeterminado es realmente muy útil: significa que cuando trabajamos con grandes conjuntos de datos, podemos acceder y procesar partes de estos conjuntos de datos sin necesidad de copiar el búfer de datos.\n",
    "\n",
    "A pesar de las características  de las `vistas` de una  matriz, a veces es útil copiar de forma explícita los datos dentro de una matriz o una submatriz. Esto se puede hacer  con el método `copy()`:"
   ]
  },
  {
   "cell_type": "code",
   "execution_count": 36,
   "metadata": {
    "id": "x_pEqBRWqaMb"
   },
   "outputs": [
    {
     "name": "stdout",
     "output_type": "stream",
     "text": [
      "[[99  0]\n",
      " [ 7  9]]\n"
     ]
    }
   ],
   "source": [
    "x2_sub_copy = x2[:2, :2].copy()\n",
    "print(x2_sub_copy)"
   ]
  },
  {
   "cell_type": "code",
   "execution_count": 37,
   "metadata": {
    "id": "GtNYYOe5qaMb"
   },
   "outputs": [
    {
     "name": "stdout",
     "output_type": "stream",
     "text": [
      "[[42  0]\n",
      " [ 7  9]]\n"
     ]
    }
   ],
   "source": [
    "x2_sub_copy[0, 0] = 42\n",
    "print(x2_sub_copy)"
   ]
  },
  {
   "cell_type": "code",
   "execution_count": 38,
   "metadata": {
    "id": "e7MCSsi3qaMb"
   },
   "outputs": [
    {
     "name": "stdout",
     "output_type": "stream",
     "text": [
      "[[99  0  3  3]\n",
      " [ 7  9  3  5]\n",
      " [ 2  4  7  6]\n",
      " [ 8  8  1  6]\n",
      " [ 7  7  8  1]]\n"
     ]
    }
   ],
   "source": [
    "print(x2)"
   ]
  },
  {
   "attachments": {},
   "cell_type": "markdown",
   "metadata": {
    "id": "ujejSPYnHRJ2"
   },
   "source": [
    "### Reshaping "
   ]
  },
  {
   "cell_type": "code",
   "execution_count": 110,
   "metadata": {
    "id": "RGpuTWaTHRJ2"
   },
   "outputs": [
    {
     "name": "stdout",
     "output_type": "stream",
     "text": [
      "[[1 2 3]\n",
      " [4 5 6]\n",
      " [7 8 9]]\n"
     ]
    }
   ],
   "source": [
    "x4 = np.arange(1, 10).reshape((3, 3))\n",
    "print(x4)"
   ]
  },
  {
   "attachments": {},
   "cell_type": "markdown",
   "metadata": {
    "id": "RU_ETRzWHRJ2"
   },
   "source": [
    "Ten en cuenta que para que esto funcione, el tamaño de la matriz inicial debe coincidir con el tamaño de la matriz rediseñada. Siempre que sea posible, el método `reshape` utilizará una `vista` sin copia de la matriz inicial. \n",
    "\n",
    "Otro patrón de `reshaping `, es la conversión de una matriz unidimensional en una fila o columna de una matriz bidimensional. Esto se puede hacer con el método `reshape`  o más fácilmente haciendo uso de `newaxis` dentro de una operación de división:"
   ]
  },
  {
   "cell_type": "code",
   "execution_count": 111,
   "metadata": {
    "id": "b-LEzn0SHRJ3"
   },
   "outputs": [
    {
     "data": {
      "text/plain": [
       "array([1, 2, 3])"
      ]
     },
     "execution_count": 111,
     "metadata": {},
     "output_type": "execute_result"
    }
   ],
   "source": [
    "x5 = np.array([1, 2, 3])\n",
    "x5"
   ]
  },
  {
   "cell_type": "code",
   "execution_count": 41,
   "metadata": {
    "id": "p4UfmxWjHRJ3"
   },
   "outputs": [
    {
     "name": "stdout",
     "output_type": "stream",
     "text": [
      "[[1]\n",
      " [2]\n",
      " [3]]\n"
     ]
    }
   ],
   "source": [
    "# vector fila via reshape\n",
    "# completar\n",
    "\n",
    "x6 = np.reshape([1, 2, 3], (3, 1))\n",
    "print(x6)\n"
   ]
  },
  {
   "cell_type": "code",
   "execution_count": 42,
   "metadata": {
    "id": "Pv8bWknUHRJ3"
   },
   "outputs": [
    {
     "name": "stdout",
     "output_type": "stream",
     "text": [
      "[[1 2 3]]\n"
     ]
    }
   ],
   "source": [
    "# vector fila con newaxis\n",
    "# completar\n",
    "\n",
    "x = np.array([1, 2, 3])\n",
    "x_row = x[np.newaxis, :]\n",
    "print(x_row)"
   ]
  },
  {
   "cell_type": "code",
   "execution_count": 43,
   "metadata": {
    "id": "Q2pcC_zfHRJ4"
   },
   "outputs": [
    {
     "name": "stdout",
     "output_type": "stream",
     "text": [
      "[[1]\n",
      " [2]\n",
      " [3]]\n"
     ]
    }
   ],
   "source": [
    "# vector columna via reshape\n",
    "# completar\n",
    "\n",
    "x = np.array([1, 2, 3])\n",
    "x_column = np.reshape(x, (3, 1))\n",
    "print(x_column)"
   ]
  },
  {
   "cell_type": "code",
   "execution_count": 44,
   "metadata": {
    "id": "HcVHXqr-HRJ4"
   },
   "outputs": [
    {
     "name": "stdout",
     "output_type": "stream",
     "text": [
      "[[1]\n",
      " [2]\n",
      " [3]]\n"
     ]
    }
   ],
   "source": [
    "# vector columna con newaxis\n",
    "# completar\n",
    "\n",
    "x = np.array([1, 2, 3])\n",
    "x_column = x[:, np.newaxis]\n",
    "print(x_column)"
   ]
  },
  {
   "attachments": {},
   "cell_type": "markdown",
   "metadata": {
    "collapsed": true,
    "id": "YzFU6QFlHRJ4"
   },
   "source": [
    "### Concatenación y  separación \n"
   ]
  },
  {
   "cell_type": "code",
   "execution_count": 45,
   "metadata": {
    "id": "sViXchcIHRJ5"
   },
   "outputs": [
    {
     "data": {
      "text/plain": [
       "array([4, 5, 6, 7, 8, 9])"
      ]
     },
     "execution_count": 45,
     "metadata": {},
     "output_type": "execute_result"
    }
   ],
   "source": [
    "x = np.array([4, 5, 6])\n",
    "y = np.array([7, 8, 9])\n",
    "np.concatenate([x, y])"
   ]
  },
  {
   "cell_type": "code",
   "execution_count": 46,
   "metadata": {
    "id": "9P1oTO3SHRJ5"
   },
   "outputs": [
    {
     "name": "stdout",
     "output_type": "stream",
     "text": [
      "[ 4  5  6  7  8  9 99 99 99]\n"
     ]
    }
   ],
   "source": [
    "# concatenacion de dos o mas matrices\n",
    "z = [99, 99, 99]\n",
    "print(np.concatenate([x, y, z]))"
   ]
  },
  {
   "cell_type": "code",
   "execution_count": 47,
   "metadata": {
    "id": "ExC9DeMgHRJ5"
   },
   "outputs": [
    {
     "data": {
      "text/plain": [
       "array([[1, 2, 3],\n",
       "       [4, 5, 6],\n",
       "       [1, 2, 3],\n",
       "       [4, 5, 6]])"
      ]
     },
     "execution_count": 47,
     "metadata": {},
     "output_type": "execute_result"
    }
   ],
   "source": [
    "# concatendo una matriz dos veces\n",
    "grid = np.array([[1, 2, 3],\n",
    "                 [4, 5, 6]])\n",
    "np.concatenate([grid, grid])"
   ]
  },
  {
   "attachments": {},
   "cell_type": "markdown",
   "metadata": {
    "id": "FV3TV1wgHRJ6"
   },
   "source": [
    "Para trabajar con matrices de distintas dimensiones, se usan las funciones `vstack` y `hstack`:"
   ]
  },
  {
   "cell_type": "code",
   "execution_count": 48,
   "metadata": {
    "id": "JXqPVFAeHRJ6"
   },
   "outputs": [
    {
     "name": "stdout",
     "output_type": "stream",
     "text": [
      "[[0 1 2]\n",
      " [3 4 5]\n",
      " [6 5 4]]\n"
     ]
    }
   ],
   "source": [
    "x = np.array([0, 1, 2])\n",
    "grid = np.array([[3, 4, 5],\n",
    "                 [6, 5, 4]])\n",
    "\n",
    "# Se junta la matriz de manera vertical\n",
    "# Completar\n",
    "result = np.concatenate([x[np.newaxis, :], grid])\n",
    "print(result)\n"
   ]
  },
  {
   "cell_type": "code",
   "execution_count": 49,
   "metadata": {
    "id": "tx_sdnkxHRJ7"
   },
   "outputs": [
    {
     "name": "stdout",
     "output_type": "stream",
     "text": [
      "[[ 3  4  5 23]\n",
      " [ 6  5  4 23]]\n"
     ]
    }
   ],
   "source": [
    "# Se junta la matriz de manera horizontal\n",
    "y = np.array([[23],\n",
    "              [23]])\n",
    "# Completar\n",
    "result = np.concatenate([grid, y], axis=1)\n",
    "print(result)"
   ]
  },
  {
   "attachments": {},
   "cell_type": "markdown",
   "metadata": {
    "collapsed": true,
    "id": "0GWOBZtIHRJ7"
   },
   "source": [
    "Lo contrario de la concatenación es la división o separación, que es implementado por las funciones `np.split`, `np.hsplit` y `np.vsplit`. Para cada uno de estas funciones , podemos pasar una lista de índices que dan los puntos de división.\n",
    "\n",
    "Ver:[https://numpy.org/doc/stable/reference/generated/numpy.split.html](https://numpy.org/doc/stable/reference/generated/numpy.split.html)"
   ]
  },
  {
   "cell_type": "code",
   "execution_count": 50,
   "metadata": {
    "id": "gkXomQdcHRJ7"
   },
   "outputs": [
    {
     "name": "stdout",
     "output_type": "stream",
     "text": [
      "[1 2 3] [44 95] [3 2 1]\n"
     ]
    }
   ],
   "source": [
    "x = [1, 2, 3, 44, 95, 3, 2, 1]\n",
    "x1, x2, x3 = np.split(x, [3, 5])\n",
    "print(x1, x2, x3)"
   ]
  },
  {
   "cell_type": "code",
   "execution_count": 51,
   "metadata": {
    "id": "N3db3D7cHRJ7"
   },
   "outputs": [
    {
     "data": {
      "text/plain": [
       "array([[ 0,  1,  2,  3],\n",
       "       [ 4,  5,  6,  7],\n",
       "       [ 8,  9, 10, 11],\n",
       "       [12, 13, 14, 15]])"
      ]
     },
     "execution_count": 51,
     "metadata": {},
     "output_type": "execute_result"
    }
   ],
   "source": [
    "grid = np.arange(16).reshape((4, 4))\n",
    "grid"
   ]
  },
  {
   "cell_type": "code",
   "execution_count": 52,
   "metadata": {
    "id": "-1wFFEyfHRJ8"
   },
   "outputs": [
    {
     "name": "stdout",
     "output_type": "stream",
     "text": [
      "[[0 1 2 3]\n",
      " [4 5 6 7]]\n",
      "[[ 8  9 10 11]\n",
      " [12 13 14 15]]\n"
     ]
    }
   ],
   "source": [
    "grid1, grid2 = np.vsplit(grid, [2])\n",
    "print(grid1)\n",
    "print(grid2)"
   ]
  },
  {
   "cell_type": "code",
   "execution_count": 53,
   "metadata": {
    "id": "-QSxKWNJHRJ8"
   },
   "outputs": [
    {
     "name": "stdout",
     "output_type": "stream",
     "text": [
      "[[ 0  1]\n",
      " [ 4  5]\n",
      " [ 8  9]\n",
      " [12 13]]\n",
      "[[ 2  3]\n",
      " [ 6  7]\n",
      " [10 11]\n",
      " [14 15]]\n"
     ]
    }
   ],
   "source": [
    "grid3, grid4 = np.hsplit(grid,[2])\n",
    "print(grid3)\n",
    "print(grid4)"
   ]
  },
  {
   "attachments": {},
   "cell_type": "markdown",
   "metadata": {
    "id": "tHP4XmEoHRKJ"
   },
   "source": [
    "### Fancy\n"
   ]
  },
  {
   "cell_type": "code",
   "execution_count": 54,
   "metadata": {
    "id": "p8Sk55iPHRKK"
   },
   "outputs": [
    {
     "name": "stdout",
     "output_type": "stream",
     "text": [
      "[51 92 14 71 60 20 82 86 74 74]\n"
     ]
    }
   ],
   "source": [
    "rand = np.random.RandomState(42)\n",
    "x = rand.randint(100, size=10)\n",
    "print(x)"
   ]
  },
  {
   "cell_type": "code",
   "execution_count": 55,
   "metadata": {
    "id": "WnihK-M2HRKM"
   },
   "outputs": [
    {
     "data": {
      "text/plain": [
       "[92, 20, 14]"
      ]
     },
     "execution_count": 55,
     "metadata": {},
     "output_type": "execute_result"
    }
   ],
   "source": [
    "# Accedemos a tres elementos diferentes\n",
    "[x[1], x[5], x[2]]"
   ]
  },
  {
   "attachments": {},
   "cell_type": "markdown",
   "metadata": {
    "id": "avs1AUSlHRKN"
   },
   "source": [
    "Alternativamente, podemos pasar una sola lista o matriz de índices para obtener el mismo resultado:"
   ]
  },
  {
   "cell_type": "code",
   "execution_count": 56,
   "metadata": {
    "id": "buKD93QUHRKN"
   },
   "outputs": [
    {
     "name": "stdout",
     "output_type": "stream",
     "text": [
      "[92 20 14]\n"
     ]
    }
   ],
   "source": [
    "# Completar\n",
    "i = [1, 5, 2]\n",
    "result = x[i]\n",
    "print(result)\n"
   ]
  },
  {
   "attachments": {},
   "cell_type": "markdown",
   "metadata": {
    "id": "pIU1Q9zyHRKO"
   },
   "source": [
    "Cuando se utiliza fancy, la forma del resultado refleja la forma de las matrices de índice en lugar de la forma de la matriz que se indexa y trabaja  en múltiples  dimensiones:"
   ]
  },
  {
   "cell_type": "code",
   "execution_count": 57,
   "metadata": {
    "id": "u4Baonx_HRKO"
   },
   "outputs": [
    {
     "name": "stdout",
     "output_type": "stream",
     "text": [
      "[[[1 2 3]\n",
      "  [7 8 9]]\n",
      "\n",
      " [[4 5 6]\n",
      "  [7 8 9]]]\n"
     ]
    }
   ],
   "source": [
    "# Completar\n",
    "\n",
    "x = np.array([[1, 2, 3],\n",
    "              [4, 5, 6],\n",
    "              [7, 8, 9]])\n",
    "\n",
    "i = np.array([[0, 2],\n",
    "            [1, 2]])\n",
    "\n",
    "result = x[i]\n",
    "print(result)\n"
   ]
  },
  {
   "cell_type": "code",
   "execution_count": 58,
   "metadata": {
    "id": "QFPQLUylHRKO"
   },
   "outputs": [
    {
     "data": {
      "text/plain": [
       "array([[ 0,  1,  2,  3],\n",
       "       [ 4,  5,  6,  7],\n",
       "       [ 8,  9, 10, 11]])"
      ]
     },
     "execution_count": 58,
     "metadata": {},
     "output_type": "execute_result"
    }
   ],
   "source": [
    "X = np.arange(12).reshape((3, 4))\n",
    "X"
   ]
  },
  {
   "attachments": {},
   "cell_type": "markdown",
   "metadata": {
    "id": "BbqZMwVKHRKP"
   },
   "source": [
    "Al igual que con la indexación estándar, el primer índice se refiere a la fila, y el segundo a la columna:"
   ]
  },
  {
   "cell_type": "code",
   "execution_count": 59,
   "metadata": {
    "id": "JOmJykqdHRKP"
   },
   "outputs": [
    {
     "data": {
      "text/plain": [
       "array([ 2,  5, 11])"
      ]
     },
     "execution_count": 59,
     "metadata": {},
     "output_type": "execute_result"
    }
   ],
   "source": [
    "fila = np.array([0, 1, 2])\n",
    "col = np.array([2, 1, 3])\n",
    "X[fila, col]"
   ]
  },
  {
   "attachments": {},
   "cell_type": "markdown",
   "metadata": {
    "id": "5UbI7MM1HRKP"
   },
   "source": [
    "Observa que el primer valor en el resultado es `X[0, 2]`, el segundo es `X[1, 1]`  y el tercero es `X[2, 3]`. El emparejamiento de índices en la indexación fancy  sigue todas las reglas del broadcasting, por ejemplo, si combinamos un vector de columna y un vector de fila dentro de los índices, obtenemos un resultado bidimensional:"
   ]
  },
  {
   "cell_type": "code",
   "execution_count": 113,
   "metadata": {
    "id": "ZHaBvrvmHRKQ"
   },
   "outputs": [
    {
     "name": "stdout",
     "output_type": "stream",
     "text": [
      "[[1 2]\n",
      " [4 5]]\n"
     ]
    }
   ],
   "source": [
    "# Completar\n",
    "\n",
    "import numpy as np\n",
    "\n",
    "X = np.array([[0, 1, 2],\n",
    "              [3, 4, 5],\n",
    "              [6, 7, 8]])\n",
    "\n",
    "r = np.array([[0],\n",
    "            [1]])\n",
    "\n",
    "\n",
    "c = np.array([1, 2])\n",
    "\n",
    "result = X[r, c]\n",
    "\n",
    "print(result)\n"
   ]
  },
  {
   "attachments": {},
   "cell_type": "markdown",
   "metadata": {
    "id": "UY1C8fh7HRKQ"
   },
   "source": [
    "Aquí, cada valor de fila se empareja con cada vector de columna, exactamente como se hace en broadcasting  de operaciones aritméticas. Por ejemplo:"
   ]
  },
  {
   "cell_type": "code",
   "execution_count": 117,
   "metadata": {
    "id": "WlT7nSHMHRKQ"
   },
   "outputs": [
    {
     "name": "stdout",
     "output_type": "stream",
     "text": [
      "[[0 1 2]\n",
      " [3 4 5]\n",
      " [6 7 8]]\n"
     ]
    }
   ],
   "source": [
    "# Completar\n",
    "\n",
    "X = np.array([[0, 1, 2],\n",
    "              [3, 4, 5],\n",
    "              [6, 7, 8]])\n",
    "\n",
    "row = np.array([[0],\n",
    "                        [1],\n",
    "                        [2]])\n",
    "\n",
    "col = np.array([0, 1, 2])\n",
    "\n",
    "result = X[row, col]\n",
    "\n",
    "print(result)\n"
   ]
  },
  {
   "attachments": {},
   "cell_type": "markdown",
   "metadata": {
    "id": "3UA5Ps0cHRKd"
   },
   "source": [
    "Siempre es importante recordar que en  la indexación fancy, el valor de retorno refleja la forma del broadcasting  de los índices, en lugar de la forma de la matriz que se indexa."
   ]
  },
  {
   "attachments": {},
   "cell_type": "markdown",
   "metadata": {
    "id": "QN9wN13cHRKd"
   },
   "source": [
    "Para operaciones  más potentes, la indexación adornada se puede combinar con los otros esquemas de indexación que existen:"
   ]
  },
  {
   "cell_type": "code",
   "execution_count": 119,
   "metadata": {
    "id": "p_gbcz40HRKe"
   },
   "outputs": [
    {
     "name": "stdout",
     "output_type": "stream",
     "text": [
      "[[0 1 2]\n",
      " [3 4 5]\n",
      " [6 7 8]]\n"
     ]
    }
   ],
   "source": [
    "print(X)"
   ]
  },
  {
   "cell_type": "code",
   "execution_count": 122,
   "metadata": {
    "id": "TEFOFrl4HRKe"
   },
   "outputs": [
    {
     "name": "stdout",
     "output_type": "stream",
     "text": [
      "[3 5]\n"
     ]
    }
   ],
   "source": [
    "# Combinando el indexado fancy y indices simples\n",
    "# Completar\n",
    "result = X[1, [0, 2]]\n",
    "print(result)\n",
    "\n"
   ]
  },
  {
   "cell_type": "code",
   "execution_count": 123,
   "metadata": {
    "id": "BZcspK2-HRKe"
   },
   "outputs": [
    {
     "name": "stdout",
     "output_type": "stream",
     "text": [
      "[[1 2]\n",
      " [7 8]]\n"
     ]
    }
   ],
   "source": [
    "# Combinando el indexado fancy y el recorte\n",
    "# Completar\n",
    "\n",
    "result = X[[0, 2], 1:]\n",
    "print(result)\n"
   ]
  },
  {
   "attachments": {},
   "cell_type": "markdown",
   "metadata": {
    "id": "O1T_gLwoHRKf"
   },
   "source": [
    "Así como el fancy  se puede utilizar para acceder a partes de una matriz, también se puede utilizar para modificar partes de una matriz. Por ejemplo, si  tenemos una matriz de índices y nos gustaría establecer los elementos correspondientes en una matriz a algún valor, podemos hacer lo siguiente:"
   ]
  },
  {
   "cell_type": "code",
   "execution_count": 65,
   "metadata": {
    "id": "ye2LR3_qHRKf"
   },
   "outputs": [
    {
     "name": "stdout",
     "output_type": "stream",
     "text": [
      "[ 0 99 99  3 99  5  6  7 99  9]\n"
     ]
    }
   ],
   "source": [
    "x = np.arange(10)\n",
    "i = np.array([2, 1, 8, 4])\n",
    "x[i] = 99\n",
    "print(x)"
   ]
  },
  {
   "attachments": {},
   "cell_type": "markdown",
   "metadata": {
    "id": "R7FOcHtwHRKg"
   },
   "source": [
    "Los índices repetidos con estas operaciones pueden causar algunos resultados potencialmente inesperados. Considera lo siguiente:"
   ]
  },
  {
   "cell_type": "code",
   "execution_count": 66,
   "metadata": {
    "id": "Ja7j27ctHRKg"
   },
   "outputs": [
    {
     "name": "stdout",
     "output_type": "stream",
     "text": [
      "[6. 0. 0. 0. 0. 0. 0. 0. 0. 0.]\n"
     ]
    }
   ],
   "source": [
    "x = np.zeros(10)\n",
    "x[[0, 0]] = [4, 6]\n",
    "print(x)"
   ]
  },
  {
   "attachments": {},
   "cell_type": "markdown",
   "metadata": {
    "collapsed": true,
    "id": "O3wLVTgBHRKg"
   },
   "source": [
    "El resultado de esta operación es asignar primero  `x[0] = 4`, seguido por `x[0] = 6`. Pero el resultado es que `x[0]` contiene el valor 6.  \n",
    "\n",
    "Considera la siguiente operación:"
   ]
  },
  {
   "cell_type": "code",
   "execution_count": 67,
   "metadata": {
    "id": "9Y9isBdeHRKg"
   },
   "outputs": [
    {
     "data": {
      "text/plain": [
       "array([6., 0., 1., 1., 1., 0., 0., 0., 0., 0.])"
      ]
     },
     "execution_count": 67,
     "metadata": {},
     "output_type": "execute_result"
    }
   ],
   "source": [
    "i = [2, 3, 3, 4, 4, 4]\n",
    "x[i] += 1\n",
    "x"
   ]
  },
  {
   "attachments": {},
   "cell_type": "markdown",
   "metadata": {
    "id": "fLCn40UwHRKh"
   },
   "source": [
    "En este caso algún resultado inesperado se debe conceptualmente  a que `x[i] +=1` se entiende como una abreviatura de `x[i] = x [i] + 1`. Cuando `x[i] + 1` es evaluado el resultado es asignado  a los índices en `x` . Con esto en mente, no es que el aumento que ocurre varias veces, sino la asignación, que conduce a los resultados  no intuitivos.\n",
    "\n",
    "Si quieremos  el otro comportamiento donde se repite la operación, se puede utilizar el método `at()` de `ufuncs`: "
   ]
  },
  {
   "cell_type": "code",
   "execution_count": 127,
   "metadata": {
    "id": "3rahnE5wHRKi"
   },
   "outputs": [
    {
     "name": "stdout",
     "output_type": "stream",
     "text": [
      "[1 2 3]\n"
     ]
    }
   ],
   "source": [
    "# Completar\n",
    "\n",
    "\n",
    "x = np.array([0, 0, 0])\n",
    "i = np.array([0, 1, 1, 2, 2, 2])\n",
    "np.add.at(x, i, 1)\n",
    "\n",
    "print(x)\n",
    "\n"
   ]
  },
  {
   "attachments": {},
   "cell_type": "markdown",
   "metadata": {
    "id": "0rziizOtHRKj"
   },
   "source": [
    "El método `at()` realiza una aplicación  del operador dado en los índices especificados (aquí, `i`) con el valor especificado (aquí, `1`)."
   ]
  },
  {
   "attachments": {},
   "cell_type": "markdown",
   "metadata": {
    "id": "17TwhqScqaMm"
   },
   "source": [
    "###  Expresiones vectorizadas  "
   ]
  },
  {
   "attachments": {},
   "cell_type": "markdown",
   "metadata": {
    "id": "3QMUpEcqqaMn"
   },
   "source": [
    "### Agregaciones\n"
   ]
  },
  {
   "cell_type": "code",
   "execution_count": 144,
   "metadata": {
    "id": "MLhcZaakqaMn"
   },
   "outputs": [
    {
     "data": {
      "text/plain": [
       "47.26011842797757"
      ]
     },
     "execution_count": 144,
     "metadata": {},
     "output_type": "execute_result"
    }
   ],
   "source": [
    "L = np.random.random(100)\n",
    "sum(L)"
   ]
  },
  {
   "attachments": {},
   "cell_type": "markdown",
   "metadata": {
    "id": "0Y_nOzbsqaMn"
   },
   "source": [
    "La sintaxis es bastante similar a la función de `sum` de  `NumPy`  y el resultado es el mismo en el caso más simple:"
   ]
  },
  {
   "cell_type": "code",
   "execution_count": 146,
   "metadata": {
    "id": "WXgGIcQSqaMn"
   },
   "outputs": [
    {
     "data": {
      "text/plain": [
       "47.260118427977545"
      ]
     },
     "execution_count": 146,
     "metadata": {},
     "output_type": "execute_result"
    }
   ],
   "source": [
    "np.sum(L)"
   ]
  },
  {
   "attachments": {},
   "cell_type": "markdown",
   "metadata": {
    "id": "7FhCoi_JqaMn"
   },
   "source": [
    "Sin embargo, debido a que la operación se ejecuta  en código compilado, la versión `NumPy` de la operación se calcula mucho más rápidamente:"
   ]
  },
  {
   "cell_type": "code",
   "execution_count": 147,
   "metadata": {
    "id": "L1FKgXK_qaMn"
   },
   "outputs": [
    {
     "name": "stdout",
     "output_type": "stream",
     "text": [
      "103 ms ± 3.33 ms per loop (mean ± std. dev. of 7 runs, 10 loops each)\n",
      "2.36 ms ± 260 µs per loop (mean ± std. dev. of 7 runs, 100 loops each)\n"
     ]
    }
   ],
   "source": [
    "matriz_grande = np.random.rand(1000000)\n",
    "%timeit sum(matriz_grande)\n",
    "%timeit np.sum(matriz_grande)"
   ]
  },
  {
   "attachments": {},
   "cell_type": "markdown",
   "metadata": {
    "id": "7I3yj7HrqaMn"
   },
   "source": [
    "La función `sum` y la función `np.sum` no son idénticas, lo que a veces puede conducir a la confusión.  En particular, sus argumentos opcionales tienen significados diferentes  y `np.sum` es válido a  varias dimensiones de una matriz."
   ]
  },
  {
   "cell_type": "code",
   "execution_count": 148,
   "metadata": {
    "id": "46tC54BJqaMn"
   },
   "outputs": [
    {
     "data": {
      "text/plain": [
       "(1.3299024816948446e-06, 0.9999967084337831)"
      ]
     },
     "execution_count": 148,
     "metadata": {},
     "output_type": "execute_result"
    }
   ],
   "source": [
    "# Otras funciones min y max\n",
    "min(matriz_grande), max(matriz_grande)"
   ]
  },
  {
   "cell_type": "code",
   "execution_count": 149,
   "metadata": {
    "id": "RcZyNPFzqaMn"
   },
   "outputs": [
    {
     "name": "stdout",
     "output_type": "stream",
     "text": [
      "78 ms ± 47.2 ms per loop (mean ± std. dev. of 7 runs, 10 loops each)\n",
      "1.18 ms ± 411 µs per loop (mean ± std. dev. of 7 runs, 1,000 loops each)\n"
     ]
    }
   ],
   "source": [
    "%timeit min(matriz_grande)\n",
    "%timeit np.min(matriz_grande)"
   ]
  },
  {
   "attachments": {},
   "cell_type": "markdown",
   "metadata": {
    "id": "FKC12DzRqaMn"
   },
   "source": [
    "Todas estas funciones también están disponibles como métodos en la clase `ndarray`. Por ejemplo, `np.mean(data)` y `data.mean()` en el ejemplo siguiente son equivalentes:"
   ]
  },
  {
   "cell_type": "code",
   "execution_count": 154,
   "metadata": {
    "id": "ubeb597jqaMn"
   },
   "outputs": [
    {
     "data": {
      "text/plain": [
       "0.09024245832462716"
      ]
     },
     "execution_count": 154,
     "metadata": {},
     "output_type": "execute_result"
    }
   ],
   "source": [
    "data = np.random.normal(size=(15, 15))\n",
    "np.mean(data)"
   ]
  },
  {
   "cell_type": "code",
   "execution_count": 155,
   "metadata": {
    "id": "otNwU7ucqaMn"
   },
   "outputs": [
    {
     "data": {
      "text/plain": [
       "0.09024245832462716"
      ]
     },
     "execution_count": 155,
     "metadata": {},
     "output_type": "execute_result"
    }
   ],
   "source": [
    "data.mean()"
   ]
  },
  {
   "attachments": {},
   "cell_type": "markdown",
   "metadata": {
    "id": "AK90lEACqaMn"
   },
   "source": [
    "Un tipo común de operación de agregación es un agregado a lo largo de una fila o columna."
   ]
  },
  {
   "cell_type": "code",
   "execution_count": 160,
   "metadata": {
    "id": "s_Z0q4xHqaMo"
   },
   "outputs": [
    {
     "name": "stdout",
     "output_type": "stream",
     "text": [
      "[[0.33943608 0.10062352 0.48687054 0.04459313 0.05402041 0.61879   ]\n",
      " [0.42400123 0.82461269 0.33571982 0.67778014 0.78067868 0.19110601]\n",
      " [0.53800106 0.39079267 0.35248893 0.47771498 0.85601351 0.11189271]\n",
      " [0.35460805 0.05587022 0.67712526 0.96257122 0.48876062 0.85297279]\n",
      " [0.00882783 0.10952863 0.1028822  0.17776619 0.76267393 0.23401699]]\n"
     ]
    }
   ],
   "source": [
    "M = np.random.random((5, 6))\n",
    "print(M)"
   ]
  },
  {
   "attachments": {},
   "cell_type": "markdown",
   "metadata": {
    "id": "9q0RaQs4qaMo"
   },
   "source": [
    "De forma predeterminada, cada función de agregación de  `NumPy`  devolverá el agregado sobre toda la matriz:"
   ]
  },
  {
   "cell_type": "code",
   "execution_count": 161,
   "metadata": {
    "id": "Mvn_GqRDqaMo"
   },
   "outputs": [
    {
     "data": {
      "text/plain": [
       "12.392740043513815"
      ]
     },
     "execution_count": 161,
     "metadata": {},
     "output_type": "execute_result"
    }
   ],
   "source": [
    "M.sum()"
   ]
  },
  {
   "attachments": {},
   "cell_type": "markdown",
   "metadata": {
    "id": "vk6BEGcBqaMo"
   },
   "source": [
    "Las funciones de agregación toman un argumento adicional que especifica el eje a lo largo del cual se calcula el agregado. Por ejemplo, podemos encontrar el valor de la suma y el  mínimo de cada columna especificando `axis = 0`:"
   ]
  },
  {
   "cell_type": "code",
   "execution_count": 162,
   "metadata": {
    "id": "m45aeskcqaMp"
   },
   "outputs": [
    {
     "data": {
      "text/plain": [
       "array([1.66487425, 1.48142773, 1.95508674, 2.34042565, 2.94214716,\n",
       "       2.00877851])"
      ]
     },
     "execution_count": 162,
     "metadata": {},
     "output_type": "execute_result"
    }
   ],
   "source": [
    "M.sum(axis= 0)"
   ]
  },
  {
   "cell_type": "code",
   "execution_count": 163,
   "metadata": {
    "id": "7hcqoOstqaMp"
   },
   "outputs": [
    {
     "data": {
      "text/plain": [
       "(10, 15)"
      ]
     },
     "execution_count": 163,
     "metadata": {},
     "output_type": "execute_result"
    }
   ],
   "source": [
    "data = np.random.normal(size=(5, 10, 15))\n",
    "data.sum(axis=0).shape"
   ]
  },
  {
   "cell_type": "code",
   "execution_count": 164,
   "metadata": {
    "id": "Rp1FO9UoqaMp"
   },
   "outputs": [
    {
     "data": {
      "text/plain": [
       "(10,)"
      ]
     },
     "execution_count": 164,
     "metadata": {},
     "output_type": "execute_result"
    }
   ],
   "source": [
    "data.sum(axis=(0, 2)).shape"
   ]
  },
  {
   "cell_type": "code",
   "execution_count": 167,
   "metadata": {
    "id": "aD18Ek0-qaMp"
   },
   "outputs": [
    {
     "data": {
      "text/plain": [
       "-2.1571963891865513"
      ]
     },
     "execution_count": 167,
     "metadata": {},
     "output_type": "execute_result"
    }
   ],
   "source": [
    "data.sum()"
   ]
  },
  {
   "attachments": {},
   "cell_type": "markdown",
   "metadata": {
    "id": "2m9jJXUYqaMp"
   },
   "source": [
    "Algunas funciones de agregación en `Numpy ` son :\n",
    "\n",
    "\n",
    "|Nombre de funcion  | VersionNaN-safe     | Descripcion                                   |\n",
    "|-------------------|---------------------|-----------------------------------------------|\n",
    "| ``np.sum``        | ``np.nansum``       | Calcula suma de elementos                     |\n",
    "| ``np.prod``       | ``np.nanprod``      | Calcula el producto de elementos              |\n",
    "| ``np.mean``       | ``np.nanmean``      | Calcula la media de elementos                 |\n",
    "| ``np.std``        | ``np.nanstd``       | Calcula la desviacion estandar                |\n",
    "| ``np.var``        | ``np.nanvar``       | Calcula la  varianza                          |\n",
    "| ``np.min``        | ``np.nanmin``       | Encuentra el minimo valor                     |\n",
    "| ``np.max``        | ``np.nanmax``       | Encuentra el maximo valor                     |\n",
    "| ``np.argmin``     | ``np.nanargmin``    | Encuenta el index del minimo valor            |\n",
    "| ``np.argmax``     | ``np.nanargmax``    | Encuentra el index del maximo valor           |\n",
    "| ``np.median``     | ``np.nanmedian``    | Calcula la mediana de elementos               |\n",
    "| ``np.percentile`` | ``np.nanpercentile``| Calcula el rango estatistico de elementos     |\n",
    "| ``np.any``        | N/A                 | Evalua si algun elemento es true              |\n",
    "| ``np.all``        | N/A                 | Evalua si todos los elementos son true        |\n",
    "\n"
   ]
  },
  {
   "attachments": {},
   "cell_type": "markdown",
   "metadata": {
    "id": "2Sf0e5STqaMp"
   },
   "source": [
    "#### Broadcasting\n"
   ]
  },
  {
   "cell_type": "code",
   "execution_count": 168,
   "metadata": {
    "id": "5Fm9Ue4dqaMp"
   },
   "outputs": [
    {
     "data": {
      "text/plain": [
       "array([2, 7, 3])"
      ]
     },
     "execution_count": 168,
     "metadata": {},
     "output_type": "execute_result"
    }
   ],
   "source": [
    "a = np.array([0, 1, 2])\n",
    "b = np.array([2, 6, 1])\n",
    "a + b"
   ]
  },
  {
   "attachments": {},
   "cell_type": "markdown",
   "metadata": {
    "id": "8eGn-GPsqaMq"
   },
   "source": [
    "El  `broadcasting` permite que estos tipos de operaciones binarias se realicen en matrices de diferentes tamaños; por ejemplo, podemos añadir  un escalar (una matriz de dimensión cero) a una matriz:"
   ]
  },
  {
   "cell_type": "code",
   "execution_count": 170,
   "metadata": {
    "id": "OEK6G1FPqaMq"
   },
   "outputs": [
    {
     "data": {
      "text/plain": [
       "array([5, 6, 7])"
      ]
     },
     "execution_count": 170,
     "metadata": {},
     "output_type": "execute_result"
    }
   ],
   "source": [
    "a + 5\n"
   ]
  },
  {
   "attachments": {},
   "cell_type": "markdown",
   "metadata": {
    "id": "9ejWt-p-qaMq"
   },
   "source": [
    "Podemos extender de manera similar esto a matrices de mayor dimensión. Veamos el resultado cuando agregamos una matriz unidimensional a una matriz bidimensional:"
   ]
  },
  {
   "cell_type": "code",
   "execution_count": 171,
   "metadata": {
    "id": "sWyguM0TqaMq"
   },
   "outputs": [
    {
     "data": {
      "text/plain": [
       "array([[ 0,  1,  2,  3],\n",
       "       [ 4,  5,  6,  7],\n",
       "       [ 8,  9, 10, 11],\n",
       "       [12, 13, 14, 15]])"
      ]
     },
     "execution_count": 171,
     "metadata": {},
     "output_type": "execute_result"
    }
   ],
   "source": [
    "A = np.arange(16).reshape(4, 4)\n",
    "b = np.arange(4)\n",
    "A"
   ]
  },
  {
   "cell_type": "code",
   "execution_count": 172,
   "metadata": {
    "id": "6s2ja74PqaMr"
   },
   "outputs": [
    {
     "data": {
      "text/plain": [
       "array([[ 0,  2,  4,  6],\n",
       "       [ 4,  6,  8, 10],\n",
       "       [ 8, 10, 12, 14],\n",
       "       [12, 14, 16, 18]])"
      ]
     },
     "execution_count": 172,
     "metadata": {},
     "output_type": "execute_result"
    }
   ],
   "source": [
    "A + b"
   ]
  },
  {
   "attachments": {},
   "cell_type": "markdown",
   "metadata": {
    "id": "UZHfVQEAqaMr"
   },
   "source": [
    "Podemos aplicar el  `broadcasting` en dos matrices. Considere el siguiente ejemplo:"
   ]
  },
  {
   "cell_type": "code",
   "execution_count": 175,
   "metadata": {
    "id": "FgFkSWCRqaMr"
   },
   "outputs": [
    {
     "name": "stdout",
     "output_type": "stream",
     "text": [
      "[[ 0  1  4  9]\n",
      " [ 0  5 12 21]\n",
      " [ 0  9 20 33]\n",
      " [ 0 13 28 45]]\n"
     ]
    }
   ],
   "source": [
    "# Completar\n",
    "\n",
    "result = A * b\n",
    "\n",
    "print(result)\n"
   ]
  },
  {
   "cell_type": "code",
   "execution_count": 179,
   "metadata": {
    "id": "3BsOFYg_qaMr"
   },
   "outputs": [
    {
     "name": "stdout",
     "output_type": "stream",
     "text": [
      "[[        nan  1.          1.          1.        ]\n",
      " [        inf  5.          3.          2.33333333]\n",
      " [        inf  9.          5.          3.66666667]\n",
      " [        inf 13.          7.          5.        ]]\n"
     ]
    },
    {
     "name": "stderr",
     "output_type": "stream",
     "text": [
      "C:\\Users\\alexa\\AppData\\Local\\Temp\\ipykernel_24028\\2093783373.py:3: RuntimeWarning: divide by zero encountered in divide\n",
      "  result = A / b\n",
      "C:\\Users\\alexa\\AppData\\Local\\Temp\\ipykernel_24028\\2093783373.py:3: RuntimeWarning: invalid value encountered in divide\n",
      "  result = A / b\n"
     ]
    }
   ],
   "source": [
    "# Completar\n",
    "\n",
    "result = A / b\n",
    "\n",
    "print(result)"
   ]
  },
  {
   "cell_type": "code",
   "execution_count": 180,
   "metadata": {
    "id": "IF30FjFtqaMr"
   },
   "outputs": [
    {
     "name": "stdout",
     "output_type": "stream",
     "text": [
      "[[0 0 0 0]\n",
      " [0 0 0 1]\n",
      " [0 0 0 2]\n",
      " [0 0 0 0]]\n"
     ]
    },
    {
     "name": "stderr",
     "output_type": "stream",
     "text": [
      "C:\\Users\\alexa\\AppData\\Local\\Temp\\ipykernel_24028\\809729828.py:3: RuntimeWarning: divide by zero encountered in remainder\n",
      "  result = A % b\n"
     ]
    }
   ],
   "source": [
    "# Completar\n",
    "\n",
    "result = A % b\n",
    "\n",
    "print(result)"
   ]
  },
  {
   "cell_type": "code",
   "execution_count": 181,
   "metadata": {
    "id": "hX8lxLr8qaMs"
   },
   "outputs": [
    {
     "name": "stdout",
     "output_type": "stream",
     "text": [
      "[[nan  2.  4.  6.]\n",
      " [nan 10. 12. 14.]\n",
      " [nan 18. 20. 22.]\n",
      " [nan 26. 28. 30.]]\n"
     ]
    },
    {
     "name": "stderr",
     "output_type": "stream",
     "text": [
      "C:\\Users\\alexa\\AppData\\Local\\Temp\\ipykernel_24028\\633959822.py:2: RuntimeWarning: invalid value encountered in divide\n",
      "  result = (A * b)/b+A\n"
     ]
    }
   ],
   "source": [
    "# Completar\n",
    "result = (A * b) / b+A\n",
    "\n",
    "print(result)"
   ]
  },
  {
   "attachments": {},
   "cell_type": "markdown",
   "metadata": {
    "id": "44rabvtDqaMs"
   },
   "source": [
    "###  Regla del broadcasting\n",
    "\n",
    "El `broadcasting` en `NumPy` sigue un estricto conjunto de reglas para determinar la interacción entre dos matrices :\n",
    "\n",
    "* Regla 1: Si las dos matrices difieren en su número de dimensiones, la forma de la matriz que tiene menos dimensiones se rellena con unos en el lado principal (izquierdo).\n",
    "\n",
    "* Regla 2: Si la forma de los dos matrices no coincide con ninguna dimensión, la matriz con la forma igual a 1 en esa dimensión se estira para que coincida con la otra dimensión.\n",
    "\n",
    "* Regla 3: Si en cualquier dimensión los tamaños son distintos y ninguno es igual a 1, se genera un error."
   ]
  },
  {
   "attachments": {},
   "cell_type": "markdown",
   "metadata": {
    "id": "cthhoMVUqaMs"
   },
   "source": [
    "### Un útil truco:"
   ]
  },
  {
   "cell_type": "code",
   "execution_count": 90,
   "metadata": {
    "id": "TLkpSl3hqaMs"
   },
   "outputs": [
    {
     "data": {
      "text/plain": [
       "(4,)"
      ]
     },
     "execution_count": 90,
     "metadata": {},
     "output_type": "execute_result"
    }
   ],
   "source": [
    "J = np.arange(0, 40, 10)\n",
    "J.shape"
   ]
  },
  {
   "cell_type": "code",
   "execution_count": 182,
   "metadata": {
    "id": "KhXkyiTpqaMs"
   },
   "outputs": [
    {
     "data": {
      "text/plain": [
       "(4, 1, 1)"
      ]
     },
     "execution_count": 182,
     "metadata": {},
     "output_type": "execute_result"
    }
   ],
   "source": [
    "J = J[:, np.newaxis]  # agregamos un nuevo eje ->  matriz 2D\n",
    "J.shape"
   ]
  },
  {
   "cell_type": "code",
   "execution_count": 183,
   "metadata": {
    "id": "Zb16ZWGsqaMs"
   },
   "outputs": [
    {
     "data": {
      "text/plain": [
       "array([[[ 0]],\n",
       "\n",
       "       [[10]],\n",
       "\n",
       "       [[20]],\n",
       "\n",
       "       [[30]]])"
      ]
     },
     "execution_count": 183,
     "metadata": {},
     "output_type": "execute_result"
    }
   ],
   "source": [
    "J"
   ]
  },
  {
   "cell_type": "code",
   "execution_count": 184,
   "metadata": {
    "id": "ncQuGxd5qaMs"
   },
   "outputs": [
    {
     "data": {
      "text/plain": [
       "array([[[ 3]],\n",
       "\n",
       "       [[13]],\n",
       "\n",
       "       [[23]],\n",
       "\n",
       "       [[33]]])"
      ]
     },
     "execution_count": 184,
     "metadata": {},
     "output_type": "execute_result"
    }
   ],
   "source": [
    "J + 3"
   ]
  },
  {
   "attachments": {},
   "cell_type": "markdown",
   "metadata": {
    "id": "1b5uLnfzqaMt"
   },
   "source": [
    "### Comparaciones, máscaras y lógica Booleana\n"
   ]
  },
  {
   "cell_type": "code",
   "execution_count": 185,
   "metadata": {
    "id": "MeYaAuW_qaMt"
   },
   "outputs": [
    {
     "data": {
      "text/plain": [
       "array([ True,  True, False, False])"
      ]
     },
     "execution_count": 185,
     "metadata": {},
     "output_type": "execute_result"
    }
   ],
   "source": [
    "a1 = np.array([1, 2, 3, 4])\n",
    "b1 = np.array([4, 3, 2, 1])\n",
    "a1 < b1"
   ]
  },
  {
   "cell_type": "code",
   "execution_count": 186,
   "metadata": {
    "id": "Aqhi445LqaMt"
   },
   "outputs": [
    {
     "data": {
      "text/plain": [
       "False"
      ]
     },
     "execution_count": 186,
     "metadata": {},
     "output_type": "execute_result"
    }
   ],
   "source": [
    "np.all(a1 < b1)"
   ]
  },
  {
   "cell_type": "code",
   "execution_count": 187,
   "metadata": {
    "id": "Mvvqq-tyqaMt"
   },
   "outputs": [
    {
     "data": {
      "text/plain": [
       "True"
      ]
     },
     "execution_count": 187,
     "metadata": {},
     "output_type": "execute_result"
    }
   ],
   "source": [
    "np.any(a1 < b1)"
   ]
  },
  {
   "cell_type": "code",
   "execution_count": 188,
   "metadata": {
    "id": "_hKNRIasqaMt"
   },
   "outputs": [
    {
     "name": "stdout",
     "output_type": "stream",
     "text": [
      "Algunos elementos en a1 son menores que los elementos de b1\n"
     ]
    }
   ],
   "source": [
    "if np.all(a1 < b1):\n",
    "    print(\" Todos los elementos en a1 son menores que los elementos en b1 \")\n",
    "elif np.any(a1 < b1):\n",
    "    print(\"Algunos elementos en a1 son menores que los elementos de b1\")\n",
    "else:\n",
    "    print(\"Todos los elementos en b1 son menores que los elementos de a1\")"
   ]
  },
  {
   "attachments": {},
   "cell_type": "markdown",
   "metadata": {
    "id": "2nLXUCapqaMt"
   },
   "source": [
    "Al aparecer en una expresión aritmética junto con un número escalar, u otra matriz `NumPy` con un tipo de datos numéricos, una matriz booleana se convierte en una matriz numérica con valores `0` y `1` en lugar de `False` y `True`, respectivamente."
   ]
  },
  {
   "cell_type": "code",
   "execution_count": 189,
   "metadata": {
    "id": "uHL9SWIVqaMu"
   },
   "outputs": [
    {
     "name": "stdout",
     "output_type": "stream",
     "text": [
      "True\n"
     ]
    }
   ],
   "source": [
    "# Completar\n",
    "\n",
    "a = np.array([[1, 2, 3],\n",
    "                [4, 5, 6],\n",
    "                [7, 8, 9]])\n",
    "\n",
    "result = np.all(a > 0)\n",
    "\n",
    "print(result)\n"
   ]
  },
  {
   "cell_type": "code",
   "execution_count": 192,
   "metadata": {
    "id": "Zo0ypRZZqaMu"
   },
   "outputs": [
    {
     "name": "stdout",
     "output_type": "stream",
     "text": [
      "True\n"
     ]
    }
   ],
   "source": [
    "# Completar\n",
    "\n",
    "result = np.all(a % 2 == 0)\n",
    "\n",
    "print(result)\n",
    "\n"
   ]
  },
  {
   "cell_type": "code",
   "execution_count": 195,
   "metadata": {
    "id": "xKfdwvatqaMu"
   },
   "outputs": [
    {
     "name": "stdout",
     "output_type": "stream",
     "text": [
      "True\n"
     ]
    }
   ],
   "source": [
    "# Completar\n",
    "\n",
    "result = np.all(a < 20)\n",
    "\n",
    "print(result)\n"
   ]
  },
  {
   "attachments": {},
   "cell_type": "markdown",
   "metadata": {
    "id": "tB_6ydqXqaMu"
   },
   "source": [
    "Esta es una propiedad útil para la computación condicional, como cuando se definen funciones."
   ]
  },
  {
   "cell_type": "code",
   "execution_count": 198,
   "metadata": {
    "id": "_ql1WHMbqaMu"
   },
   "outputs": [
    {
     "data": {
      "image/png": "[encoded data removed]",
      "text/plain": [
       "<Figure size 640x480 with 1 Axes>"
      ]
     },
     "metadata": {},
     "output_type": "display_data"
    }
   ],
   "source": [
    "import numpy as np\n",
    "import matplotlib.pyplot as plt\n",
    "\n",
    "def pulso(t, posicion, altura, ancho):\n",
    "    return altura * (t >= posicion) * (t <= (posicion + ancho))\n",
    "\n",
    "# Completar\n",
    "\n",
    "t = np.linspace(0, 10, 1000)\n",
    "posicion = 3\n",
    "altura = 5\n",
    "ancho = 2\n",
    "pulso_valores = pulso(t, posicion, altura, ancho)\n",
    "\n",
    "plt.plot(t, pulso_valores)\n",
    "plt.xlabel('Tiempo')\n",
    "plt.ylabel('Pulso')\n",
    "plt.title('Pulso rectangular')\n",
    "plt.grid(True)\n",
    "plt.show()"
   ]
  },
  {
   "attachments": {},
   "cell_type": "markdown",
   "metadata": {
    "id": "VpGU0FGBqaMu"
   },
   "source": [
    "### Matrices booleanas como máscaras\n",
    "\n",
    "Revisar: [masked array](https://docs.scipy.org/doc/numpy/reference/maskedarray.html)."
   ]
  },
  {
   "cell_type": "code",
   "execution_count": 200,
   "metadata": {
    "id": "4PQgtpS4qaMu"
   },
   "outputs": [
    {
     "data": {
      "text/plain": [
       "array([False, False,  True, False, False,  True])"
      ]
     },
     "execution_count": 200,
     "metadata": {},
     "output_type": "execute_result"
    }
   ],
   "source": [
    "k = np.array([1, 3, -1, 5, 7, -1])\n",
    "mask = (k < 0)\n",
    "mask"
   ]
  },
  {
   "cell_type": "code",
   "execution_count": 201,
   "metadata": {
    "id": "KJ9jFSKuqaMv"
   },
   "outputs": [
    {
     "data": {
      "text/plain": [
       "array([[5, 0, 3, 3],\n",
       "       [7, 9, 3, 5],\n",
       "       [2, 4, 7, 6]])"
      ]
     },
     "execution_count": 201,
     "metadata": {},
     "output_type": "execute_result"
    }
   ],
   "source": [
    "# Un ejemplo bidimensional\n",
    "rng = np.random.RandomState(0)\n",
    "z1 = rng.randint(10, size=(3, 4))\n",
    "z1"
   ]
  },
  {
   "attachments": {},
   "cell_type": "markdown",
   "metadata": {
    "id": "IvBwaoXEqaMv"
   },
   "source": [
    "Ahora, para seleccionar estos valores de la matriz, podemos simplemente indexar en esta matriz booleana, esto se conoce como una operación de `enmascaramiento`:"
   ]
  },
  {
   "cell_type": "code",
   "execution_count": 203,
   "metadata": {
    "id": "osgH-qNWqaMv"
   },
   "outputs": [
    {
     "name": "stdout",
     "output_type": "stream",
     "text": [
      "[2 4 6 8]\n"
     ]
    }
   ],
   "source": [
    "# Completar\n",
    "\n",
    "a = np.array([1, 2, 3, 4, 5, 6, 7, 8, 9])\n",
    "mask = a % 2 == 0\n",
    "even_numbers = a[mask]\n",
    "print(even_numbers)"
   ]
  },
  {
   "attachments": {},
   "cell_type": "markdown",
   "metadata": {
    "id": "J1tyYXNeqaMv"
   },
   "source": [
    "El siguiente ejemplo muestra cómo sumar la matriz de enmascaramiento,  donde `True` representa uno y `False` representa 0."
   ]
  },
  {
   "cell_type": "code",
   "execution_count": 219,
   "metadata": {
    "id": "aTqwfAtAqaMv"
   },
   "outputs": [
    {
     "name": "stdout",
     "output_type": "stream",
     "text": [
      "Matriz de enmascaramiento:\n",
      "[False False False False  True  True  True  True  True]\n",
      "Suma de la matriz de enmascaramiento:\n",
      "5\n"
     ]
    }
   ],
   "source": [
    "# Completar\n",
    "\n",
    "mask = a > 4\n",
    "print(\"Matriz de enmascaramiento:\")\n",
    "print(mask)\n",
    "print(\"Suma de la matriz de enmascaramiento:\")\n",
    "sum= np.sum(mask)\n",
    "print(sum)\n",
    "\n"
   ]
  },
  {
   "attachments": {},
   "cell_type": "markdown",
   "metadata": {
    "id": "oqDn9SxmHRKr"
   },
   "source": [
    "### Lectura recomendada: [Numpy Reference](https://docs.scipy.org/doc/numpy/reference/)."
   ]
  },
  {
   "cell_type": "code",
   "execution_count": null,
   "metadata": {
    "id": "ZstWnij4qaMw"
   },
   "outputs": [],
   "source": []
  }
 ],
 "metadata": {
  "colab": {
   "name": "Numpy.ipynb",
   "provenance": []
  },
  "kernelspec": {
   "display_name": "Python 3",
   "language": "python",
   "name": "python3"
  },
  "language_info": {
   "codemirror_mode": {
    "name": "ipython",
    "version": 3
   },
   "file_extension": ".py",
   "mimetype": "text/x-python",
   "name": "python",
   "nbconvert_exporter": "python",
   "pygments_lexer": "ipython3",
   "version": "3.11.3"
  }
 },
 "nbformat": 4,
 "nbformat_minor": 1
}
